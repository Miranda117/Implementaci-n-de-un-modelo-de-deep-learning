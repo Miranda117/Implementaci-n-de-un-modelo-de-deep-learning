{
  "cells": [
    {
      "cell_type": "code",
      "execution_count": 82,
      "metadata": {
        "colab": {
          "base_uri": "https://localhost:8080/"
        },
        "id": "7IeDhQi5931o",
        "outputId": "7ef4c533-866b-47ea-b812-e13b84f4f73c"
      },
      "outputs": [
        {
          "output_type": "stream",
          "name": "stdout",
          "text": [
            "Drive already mounted at /content/gdrive; to attempt to forcibly remount, call drive.mount(\"/content/gdrive\", force_remount=True).\n",
            "/content\n"
          ]
        }
      ],
      "source": [
        "from google.colab import drive\n",
        "\n",
        "drive.mount(\"/content/gdrive\")\n",
        "!pwd  # show current path"
      ]
    },
    {
      "cell_type": "code",
      "execution_count": 83,
      "metadata": {
        "id": "PdCwW2TTR2Hq"
      },
      "outputs": [],
      "source": [
        "import pandas as pd\n",
        "import numpy as np\n",
        "import tensorflow as tf\n",
        "import os\n",
        "from tensorflow.keras import Sequential\n",
        "from tensorflow.keras.preprocessing.image import ImageDataGenerator\n",
        "from tensorflow.keras.layers import Conv2D, MaxPooling2D, Flatten, Dense, BatchNormalization, Dropout, GlobalAveragePooling2D\n",
        "from tensorflow.keras.layers.experimental.preprocessing import Rescaling\n",
        "from tensorflow.keras.models import load_model\n",
        "from tensorflow.keras.applications import VGG16\n",
        "from tensorflow.keras.callbacks import ModelCheckpoint, EarlyStopping\n",
        "import matplotlib.pyplot as plt\n",
        "from tensorflow.keras.preprocessing import image\n",
        "import seaborn as sns\n",
        "from google.colab import files\n",
        "from tensorflow.keras.optimizers import Adamax\n",
        "from sklearn.model_selection import train_test_split\n",
        "from tensorflow.keras.metrics import categorical_crossentropy\n",
        "from sklearn.metrics import confusion_matrix, classification_report\n",
        "\n"
      ]
    },
    {
      "cell_type": "markdown",
      "source": [
        "#Nota\n",
        "Ambas redes se entrenaron en 40 epochs"
      ],
      "metadata": {
        "id": "MDfMt3_S0vi1"
      }
    },
    {
      "cell_type": "markdown",
      "source": [
        "#Separación de los datos\n",
        "Separamos los datos para Test, Train y valida, además hacemos uso de un generadpr de imágenes que se utilizan para preprocesar y aumentar los datos. **ImageDataGenerator** esta herramienta permite realizar transformaciones en las imágenes, como el escalado y la rotación. Lo configuro para realizar un escalado de 1/255 (normalización) y aplicar aumentos como el zoom, la inclinación (shear) y la rotación en las imágenes."
      ],
      "metadata": {
        "id": "mw1G-BOj1k2k"
      }
    },
    {
      "cell_type": "code",
      "execution_count": 84,
      "metadata": {
        "colab": {
          "base_uri": "https://localhost:8080/"
        },
        "id": "4KPJTac37g7I",
        "outputId": "c41f700b-27d7-4c1b-a522-0fa45fb73316"
      },
      "outputs": [
        {
          "output_type": "stream",
          "name": "stdout",
          "text": [
            "Found 7683 images belonging to 53 classes.\n",
            "Found 265 images belonging to 53 classes.\n",
            "Found 265 images belonging to 53 classes.\n"
          ]
        }
      ],
      "source": [
        "\n",
        "\n",
        "dataset_path = \"/content/gdrive/MyDrive/IAcone/Bloque2/Modulo2/dataSets/cartasData/\"\n",
        "\n",
        "csv_file = pd.read_csv(dataset_path+\"cards.csv\")\n",
        "\n",
        "bachSize=16\n",
        "image_width, image_height = 200, 200\n",
        "input_shape = (image_width, image_height, 3)\n",
        "\n",
        "train_data_gen =ImageDataGenerator(rescale=1.0/255,\n",
        "    zoom_range=0.2,\n",
        "    shear_range=0.2,\n",
        "    rotation_range=10)\n",
        "\n",
        "train_generator = train_data_gen.flow_from_directory(\n",
        "    dataset_path + \"train/\",\n",
        "    target_size=(image_width, image_height),\n",
        "    batch_size=bachSize,\n",
        "    class_mode='categorical'\n",
        ")\n",
        "\n",
        "test_data_gen = ImageDataGenerator(rescale=1.0/255,\n",
        "    zoom_range=0.2,\n",
        "    shear_range=0.2,\n",
        "    rotation_range=10)\n",
        "test_generator = test_data_gen.flow_from_directory(\n",
        "    dataset_path + \"test/\",\n",
        "\n",
        "    target_size=(image_width, image_height),\n",
        "    batch_size=bachSize,\n",
        "    class_mode='categorical'\n",
        ")\n",
        "\n",
        "valid_data_gen = ImageDataGenerator(rescale=1.0/255,\n",
        "    zoom_range=0.2,\n",
        "    shear_range=0.2,\n",
        "    rotation_range=10)\n",
        "\n",
        "\n",
        "valid_generator = valid_data_gen.flow_from_directory(\n",
        "    dataset_path + \"valid/\",\n",
        "    target_size=(image_width, image_height),\n",
        "\n",
        "    batch_size=bachSize,\n",
        "    class_mode='categorical'\n",
        ")\n",
        "\n",
        "\n"
      ]
    },
    {
      "cell_type": "markdown",
      "source": [
        "#Transfer Learning\n",
        "\n",
        "Se carga el modelo preentrenado VGG16 con los pesos de 'imagenet'. Este modelo servirá como base para mi modelo de clasificación. Se configura para excluir la capa de salida (include_top = False) y para que tenga la forma de entrada definida por input_shape (200, 200), que es el tamaño de cada imagen. Luego, se declara que los pesos de conv_base no serán reentrenados."
      ],
      "metadata": {
        "id": "v5eUzbO61eiV"
      }
    },
    {
      "cell_type": "code",
      "source": [
        "conv_base = VGG16(weights='imagenet',\n",
        "\t\t\t\t\t\t\t\tinclude_top = False,\n",
        "\t\t\t\t\t\t\t\tinput_shape = input_shape)"
      ],
      "metadata": {
        "id": "saoo_jTe1df1"
      },
      "execution_count": 85,
      "outputs": []
    },
    {
      "cell_type": "markdown",
      "source": [
        "#Check point\n",
        "Establecemos la ruta donde guardaremos los pesos de nuestro entrenamiento, ya que por el tiempo de entrenamiento de corre riesgo de que el tiempo de ejecución sea interrunpido\n",
        "\n",
        "\n",
        "save_weights_only: Solo guardaremos los pesos no la arquitectura.\n",
        "save_freq: Se guardarán puntos de control cada 128 épocas durante el entrenamiento.\n",
        "verbose: Es igual 1 para imprimir un mensaje cada que se guarde."
      ],
      "metadata": {
        "id": "WgKYWx70zqSJ"
      }
    },
    {
      "cell_type": "code",
      "source": [
        "current_directory = \"/content/gdrive/MyDrive/IAcone/Bloque2/Modulo2/entegaFrame2/checkPoint/\"\n",
        "\n",
        "checkpoint_path = current_directory + \"checkPointcheckPoint128\"\n",
        "checkpoint_50 = ModelCheckpoint(filepath = checkpoint_path,\n",
        "                                  save_weights_only = True,\n",
        "                                  save_freq = 128,\n",
        "                                  verbose = 1)"
      ],
      "metadata": {
        "id": "ZfurPIn5M9R6"
      },
      "execution_count": 86,
      "outputs": []
    },
    {
      "cell_type": "markdown",
      "source": [
        "#Estableciendo el modelo\n",
        "La red es un modelo Sequential con las siguientes capas: VGG16 pre-entrenada, Conv2D, Rescaling, otra Conv2D, Dropout, Flatten, Dense (128 neuronas), y Dense (53 neuronas). Tiene un total de 15,156,021 parámetros, de los cuales 441,333 son entrenables y 14,714,688 son no entrenables debido a la base pre-entrenada VGG16.\n",
        "\n",
        "Se hace uso de el optimizador 'adam' y la función de pérdida 'categorical_crossentropy'. Se muestra un resumen del modelo y se verifica si existe un archivo de punto de control. Si existe, se cargan los pesos del modelo a partir de los ultimos pesos guardados.\n"
      ],
      "metadata": {
        "id": "DCp4zKy-LBQ0"
      }
    },
    {
      "cell_type": "code",
      "execution_count": 87,
      "metadata": {
        "colab": {
          "base_uri": "https://localhost:8080/"
        },
        "id": "a9ENhuee811P",
        "outputId": "be44a817-eaf8-4c2b-852a-e96a36f2539e"
      },
      "outputs": [
        {
          "output_type": "stream",
          "name": "stderr",
          "text": [
            "WARNING:tensorflow:Detecting that an object or model or tf.train.Checkpoint is being deleted with unrestored values. See the following logs for the specific values in question. To silence these warnings, use `status.expect_partial()`. See https://www.tensorflow.org/api_docs/python/tf/train/Checkpoint#restorefor details about the status object returned by the restore function.\n",
            "WARNING:tensorflow:Value in checkpoint could not be found in the restored object: (root).optimizer._variables.1\n",
            "WARNING:tensorflow:Value in checkpoint could not be found in the restored object: (root).optimizer._variables.2\n",
            "WARNING:tensorflow:Value in checkpoint could not be found in the restored object: (root).optimizer._variables.3\n",
            "WARNING:tensorflow:Value in checkpoint could not be found in the restored object: (root).optimizer._variables.4\n",
            "WARNING:tensorflow:Value in checkpoint could not be found in the restored object: (root).optimizer._variables.5\n",
            "WARNING:tensorflow:Value in checkpoint could not be found in the restored object: (root).optimizer._variables.6\n",
            "WARNING:tensorflow:Value in checkpoint could not be found in the restored object: (root).optimizer._variables.7\n",
            "WARNING:tensorflow:Value in checkpoint could not be found in the restored object: (root).optimizer._variables.8\n",
            "WARNING:tensorflow:Value in checkpoint could not be found in the restored object: (root).optimizer._variables.9\n",
            "WARNING:tensorflow:Value in checkpoint could not be found in the restored object: (root).optimizer._variables.10\n",
            "WARNING:tensorflow:Value in checkpoint could not be found in the restored object: (root).optimizer._variables.11\n",
            "WARNING:tensorflow:Value in checkpoint could not be found in the restored object: (root).optimizer._variables.12\n",
            "WARNING:tensorflow:Value in checkpoint could not be found in the restored object: (root).optimizer._variables.13\n",
            "WARNING:tensorflow:Value in checkpoint could not be found in the restored object: (root).optimizer._variables.14\n",
            "WARNING:tensorflow:Value in checkpoint could not be found in the restored object: (root).optimizer._variables.15\n",
            "WARNING:tensorflow:Value in checkpoint could not be found in the restored object: (root).optimizer._variables.16\n"
          ]
        },
        {
          "output_type": "stream",
          "name": "stdout",
          "text": [
            "Model: \"sequential_5\"\n",
            "_________________________________________________________________\n",
            " Layer (type)                Output Shape              Param #   \n",
            "=================================================================\n",
            " vgg16 (Functional)          (None, 6, 6, 512)         14714688  \n",
            "                                                                 \n",
            " conv2d_7 (Conv2D)           (None, 4, 4, 64)          294976    \n",
            "                                                                 \n",
            " rescaling_8 (Rescaling)     (None, 4, 4, 64)          0         \n",
            "                                                                 \n",
            " conv2d_8 (Conv2D)           (None, 2, 2, 128)         73856     \n",
            "                                                                 \n",
            " dropout_4 (Dropout)         (None, 2, 2, 128)         0         \n",
            "                                                                 \n",
            " flatten_4 (Flatten)         (None, 512)               0         \n",
            "                                                                 \n",
            " dense_8 (Dense)             (None, 128)               65664     \n",
            "                                                                 \n",
            " dense_9 (Dense)             (None, 53)                6837      \n",
            "                                                                 \n",
            "=================================================================\n",
            "Total params: 15156021 (57.82 MB)\n",
            "Trainable params: 441333 (1.68 MB)\n",
            "Non-trainable params: 14714688 (56.13 MB)\n",
            "_________________________________________________________________\n"
          ]
        }
      ],
      "source": [
        "model = Sequential()\n",
        "model.add(conv_base)\n",
        "\n",
        "\n",
        "model.add(Conv2D(64, kernel_size=(3, 3), activation='relu',input_shape=input_shape))\n",
        "model.add(Rescaling(1./255, input_shape=(200, 200, 3)))\n",
        "model.add(Conv2D(128, kernel_size=(3, 3), activation='relu',input_shape=input_shape))\n",
        "model.add(Dropout(0.3))\n",
        "model.add(Flatten())\n",
        "model.add(Dense(128, activation='relu'))\n",
        "model.add(Dense(53, activation='softmax'))\n",
        "\n",
        "\n",
        "conv_base.trainable = False\n",
        "\n",
        "\n",
        "model.compile(optimizer='adam', loss='categorical_crossentropy', metrics=['accuracy'])\n",
        "model.summary()\n",
        "# Train the model\n",
        "if os.path.exists(checkpoint_path + '.index'):\n",
        "    model.load_weights(checkpoint_path)\n",
        "else:\n",
        "    print(f\"No se encontró un archivo de punto de control en {checkpoint_path}. Iniciando entrenamiento desde cero.\")\n",
        "\n",
        "\n",
        "\n"
      ]
    },
    {
      "cell_type": "code",
      "source": [
        "history =model.fit(train_generator, epochs=1, validation_data=valid_generator, callbacks=[checkpoint_50])\n"
      ],
      "metadata": {
        "colab": {
          "base_uri": "https://localhost:8080/"
        },
        "id": "E1Z9zEU0J2gI",
        "outputId": "493cb513-a60a-48f2-a243-ae198aaff11e"
      },
      "execution_count": 88,
      "outputs": [
        {
          "output_type": "stream",
          "name": "stdout",
          "text": [
            "127/481 [======>.......................] - ETA: 47:51 - loss: 0.5806 - accuracy: 0.8158\n",
            "Epoch 1: saving model to /content/gdrive/MyDrive/IAcone/Bloque2/Modulo2/entegaFrame2/checkPoint/checkPointcheckPoint128\n",
            "255/481 [==============>...............] - ETA: 31:08 - loss: 0.5795 - accuracy: 0.8146\n",
            "Epoch 1: saving model to /content/gdrive/MyDrive/IAcone/Bloque2/Modulo2/entegaFrame2/checkPoint/checkPointcheckPoint128\n",
            "383/481 [======================>.......] - ETA: 13:29 - loss: 0.5837 - accuracy: 0.8146\n",
            "Epoch 1: saving model to /content/gdrive/MyDrive/IAcone/Bloque2/Modulo2/entegaFrame2/checkPoint/checkPointcheckPoint128\n",
            "481/481 [==============================] - 4101s 9s/step - loss: 0.5865 - accuracy: 0.8139 - val_loss: 0.8019 - val_accuracy: 0.7811\n"
          ]
        }
      ]
    },
    {
      "cell_type": "markdown",
      "source": [
        "# Guardamos el modelo."
      ],
      "metadata": {
        "id": "GlYB5NaaOAKt"
      }
    },
    {
      "cell_type": "code",
      "execution_count": 89,
      "metadata": {
        "id": "yzGny9FBR55Y",
        "colab": {
          "base_uri": "https://localhost:8080/",
          "height": 73
        },
        "outputId": "6eaebb75-0bd2-40e7-a941-04dbc7d7d63b"
      },
      "outputs": [
        {
          "output_type": "stream",
          "name": "stderr",
          "text": [
            "/usr/local/lib/python3.10/dist-packages/keras/src/engine/training.py:3079: UserWarning: You are saving your model as an HDF5 file via `model.save()`. This file format is considered legacy. We recommend using instead the native Keras format, e.g. `model.save('my_model.keras')`.\n",
            "  saving_api.save_model(\n"
          ]
        },
        {
          "output_type": "display_data",
          "data": {
            "text/plain": [
              "<IPython.core.display.Javascript object>"
            ],
            "application/javascript": [
              "\n",
              "    async function download(id, filename, size) {\n",
              "      if (!google.colab.kernel.accessAllowed) {\n",
              "        return;\n",
              "      }\n",
              "      const div = document.createElement('div');\n",
              "      const label = document.createElement('label');\n",
              "      label.textContent = `Downloading \"${filename}\": `;\n",
              "      div.appendChild(label);\n",
              "      const progress = document.createElement('progress');\n",
              "      progress.max = size;\n",
              "      div.appendChild(progress);\n",
              "      document.body.appendChild(div);\n",
              "\n",
              "      const buffers = [];\n",
              "      let downloaded = 0;\n",
              "\n",
              "      const channel = await google.colab.kernel.comms.open(id);\n",
              "      // Send a message to notify the kernel that we're ready.\n",
              "      channel.send({})\n",
              "\n",
              "      for await (const message of channel.messages) {\n",
              "        // Send a message to notify the kernel that we're ready.\n",
              "        channel.send({})\n",
              "        if (message.buffers) {\n",
              "          for (const buffer of message.buffers) {\n",
              "            buffers.push(buffer);\n",
              "            downloaded += buffer.byteLength;\n",
              "            progress.value = downloaded;\n",
              "          }\n",
              "        }\n",
              "      }\n",
              "      const blob = new Blob(buffers, {type: 'application/binary'});\n",
              "      const a = document.createElement('a');\n",
              "      a.href = window.URL.createObjectURL(blob);\n",
              "      a.download = filename;\n",
              "      div.appendChild(a);\n",
              "      a.click();\n",
              "      div.remove();\n",
              "    }\n",
              "  "
            ]
          },
          "metadata": {}
        },
        {
          "output_type": "display_data",
          "data": {
            "text/plain": [
              "<IPython.core.display.Javascript object>"
            ],
            "application/javascript": [
              "download(\"download_4f8153ba-8371-4c46-a982-61415d6db567\", \"cardsCNN.h5\", 64246568)"
            ]
          },
          "metadata": {}
        }
      ],
      "source": [
        "\n",
        "model.save(\"cardsCNN.h5\")\n",
        "files.download(\"cardsCNN.h5\")"
      ]
    },
    {
      "cell_type": "code",
      "source": [
        "loaded_model = load_model(\"/content/cardsCNN.h5\")\n",
        "\n"
      ],
      "metadata": {
        "id": "ocjEwtLWXMtg"
      },
      "execution_count": 90,
      "outputs": []
    },
    {
      "cell_type": "markdown",
      "source": [
        "#Evaluando el modelo\n",
        "Evaluamos el modelo con el set de datos que previamente separamos"
      ],
      "metadata": {
        "id": "KVmvl4ZhOrPk"
      }
    },
    {
      "cell_type": "code",
      "source": [
        "\n",
        "test_loss, test_accuracy = loaded_model.evaluate(test_generator)\n",
        "print(\"Test Accuracy:\", test_accuracy)\n"
      ],
      "metadata": {
        "colab": {
          "base_uri": "https://localhost:8080/"
        },
        "id": "Sx963-Yg3QoW",
        "outputId": "61519740-4228-41ea-c7d1-8f55be1ab227"
      },
      "execution_count": 91,
      "outputs": [
        {
          "output_type": "stream",
          "name": "stdout",
          "text": [
            "17/17 [==============================] - 131s 8s/step - loss: 0.9336 - accuracy: 0.7736\n",
            "Test Accuracy: 0.7735849022865295\n"
          ]
        }
      ]
    },
    {
      "cell_type": "markdown",
      "source": [
        "La evaluación del modelo nos muestra un Accuracy: 0.7735849022865295 aun que bien esto ya nos da certeza de que nuesto modelono no esta adivinando, podemos mejorar nuesto modelo."
      ],
      "metadata": {
        "id": "lYqUwF4XVdJ0"
      }
    },
    {
      "cell_type": "code",
      "source": [
        "loaded_model"
      ],
      "metadata": {
        "colab": {
          "base_uri": "https://localhost:8080/"
        },
        "id": "uLu6QhTh8w-i",
        "outputId": "0cefa906-0e70-4c78-f248-3a120055d4b6"
      },
      "execution_count": 92,
      "outputs": [
        {
          "output_type": "execute_result",
          "data": {
            "text/plain": [
              "<keras.src.engine.sequential.Sequential at 0x7b6fb5eb79a0>"
            ]
          },
          "metadata": {},
          "execution_count": 92
        }
      ]
    },
    {
      "cell_type": "markdown",
      "source": [
        "# Predicciones para el usuario\n",
        "En esta sección, el usuario tiene la opción de cargar una imagen personal para poner a prueba el modelo."
      ],
      "metadata": {
        "id": "pk1nNXWAP-RA"
      }
    },
    {
      "cell_type": "code",
      "source": [
        "\n",
        "\n",
        "#img_path = '/content/086.jpg'\n",
        "img_path = '/content/061.jpg'\n",
        "#img_path = '/content/156.jpg'\n",
        "\n",
        "img = image.load_img(img_path, target_size=(200, 200))\n",
        "\n",
        "img_array = image.img_to_array(img)\n",
        "\n",
        "\n",
        "img_array = img_array / 255.0\n",
        "\n",
        "\n",
        "img_array = np.expand_dims(img_array, axis=0)\n"
      ],
      "metadata": {
        "id": "XRmqlyGQ9aCF"
      },
      "execution_count": 108,
      "outputs": []
    },
    {
      "cell_type": "code",
      "source": [
        "\n",
        "prediction = loaded_model.predict(img_array)\n",
        "\n"
      ],
      "metadata": {
        "colab": {
          "base_uri": "https://localhost:8080/"
        },
        "id": "6T-F50r29lte",
        "outputId": "7e7c4515-18cf-4772-c6ed-cfdf24990966"
      },
      "execution_count": 109,
      "outputs": [
        {
          "output_type": "stream",
          "name": "stdout",
          "text": [
            "1/1 [==============================] - 0s 130ms/step\n"
          ]
        }
      ]
    },
    {
      "cell_type": "code",
      "source": [
        "predicted_class = np.argmax(prediction)\n",
        "predicted_class\n",
        "class_labels = train_generator.class_indices\n",
        "\n",
        "\n",
        "\n",
        "llave_correspondiente = [llave for llave, valor in class_labels.items() if valor == predicted_class]\n",
        "\n",
        "print(llave_correspondiente[0])\n"
      ],
      "metadata": {
        "colab": {
          "base_uri": "https://localhost:8080/"
        },
        "id": "eTWtOHeX9ojr",
        "outputId": "3679a8d0-abf3-473a-f0bd-e0865c7fe235"
      },
      "execution_count": 110,
      "outputs": [
        {
          "output_type": "stream",
          "name": "stdout",
          "text": [
            "four of diamonds\n"
          ]
        }
      ]
    },
    {
      "cell_type": "code",
      "source": [
        "class_labels = train_generator.class_indices\n",
        "print(class_labels)"
      ],
      "metadata": {
        "colab": {
          "base_uri": "https://localhost:8080/"
        },
        "id": "_51B5Fle993z",
        "outputId": "039c6290-fe1c-421f-c8dd-b57a7006be0b"
      },
      "execution_count": 96,
      "outputs": [
        {
          "output_type": "stream",
          "name": "stdout",
          "text": [
            "{'ace of clubs': 0, 'ace of diamonds': 1, 'ace of hearts': 2, 'ace of spades': 3, 'eight of clubs': 4, 'eight of diamonds': 5, 'eight of hearts': 6, 'eight of spades': 7, 'five of clubs': 8, 'five of diamonds': 9, 'five of hearts': 10, 'five of spades': 11, 'four of clubs': 12, 'four of diamonds': 13, 'four of hearts': 14, 'four of spades': 15, 'jack of clubs': 16, 'jack of diamonds': 17, 'jack of hearts': 18, 'jack of spades': 19, 'joker': 20, 'king of clubs': 21, 'king of diamonds': 22, 'king of hearts': 23, 'king of spades': 24, 'nine of clubs': 25, 'nine of diamonds': 26, 'nine of hearts': 27, 'nine of spades': 28, 'queen of clubs': 29, 'queen of diamonds': 30, 'queen of hearts': 31, 'queen of spades': 32, 'seven of clubs': 33, 'seven of diamonds': 34, 'seven of hearts': 35, 'seven of spades': 36, 'six of clubs': 37, 'six of diamonds': 38, 'six of hearts': 39, 'six of spades': 40, 'ten of clubs': 41, 'ten of diamonds': 42, 'ten of hearts': 43, 'ten of spades': 44, 'three of clubs': 45, 'three of diamonds': 46, 'three of hearts': 47, 'three of spades': 48, 'two of clubs': 49, 'two of diamonds': 50, 'two of hearts': 51, 'two of spades': 52}\n"
          ]
        }
      ]
    },
    {
      "cell_type": "code",
      "source": [
        "\n",
        "print(predicted_class)\n",
        "# Obtén las probabilidades de predicción\n",
        "probabilidades = predicted_class\n",
        "# Convierte el diccionario class_labels en una lista de etiquetas ordenada\n",
        "etiquetas = [etiqueta for etiqueta, _ in sorted(class_labels.items(), key=lambda x: x[1])]\n",
        "\n",
        "# Crea un DataFrame con las probabilidades y etiquetas\n",
        "data = {'Probabilidades': probabilidades, 'Etiqueta': etiquetas}\n",
        "df = pd.DataFrame(data)\n",
        "\n",
        "# Plotea un mapa de calor\n",
        "plt.figure(figsize=(12, 6))\n",
        "sns.heatmap(df.pivot_table(index='Etiqueta', columns='Etiqueta', values='Probabilidades', aggfunc='sum'), cmap='YlGnBu', annot=True, fmt='.2f')\n",
        "plt.title(f\"Mapa de Calor de Probabilidades\")\n",
        "plt.show()\n"
      ],
      "metadata": {
        "colab": {
          "base_uri": "https://localhost:8080/",
          "height": 702
        },
        "id": "e3RM1_vdUjSu",
        "outputId": "aa17dd1c-7d2e-44da-873d-f2b9772a207a"
      },
      "execution_count": 97,
      "outputs": [
        {
          "output_type": "stream",
          "name": "stdout",
          "text": [
            "12\n"
          ]
        },
        {
          "output_type": "display_data",
          "data": {
            "text/plain": [
              "<Figure size 1200x600 with 2 Axes>"
            ],
            "image/png": "[encoded data removed]"
          },
          "metadata": {}
        }
      ]
    },
    {
      "cell_type": "markdown",
      "source": [
        "#Red Neuronal Mejorada"
      ],
      "metadata": {
        "id": "s9_WkROJejps"
      }
    },
    {
      "cell_type": "code",
      "source": [
        "conv_base = tf.keras.applications.efficientnet.EfficientNetB3(include_top= False, weights= \"imagenet\", input_shape= input_shape, pooling= 'max')\n",
        "current_directory = \"/content/gdrive/MyDrive/IAcone/Bloque2/Modulo2/entegaFrame2/checkPoint21/\"\n",
        "\n",
        "checkpoint_path = current_directory + \"checkPoint64\"\n",
        "checkpoint_64 = ModelCheckpoint(filepath = checkpoint_path,\n",
        "                                  save_weights_only = True,\n",
        "                                  save_freq = 64,\n",
        "                                  verbose = 1)"
      ],
      "metadata": {
        "id": "YbhNT6xdesvc"
      },
      "execution_count": 98,
      "outputs": []
    },
    {
      "cell_type": "markdown",
      "source": [
        "#Estableciendo el modelo\n",
        "##Cambios para mejorar el modelo\n",
        "### Red base\n",
        "Para mejorar nuesto modelo se intentaron agragar más capas convolucionales, sin embargo eso alargo mucho el tiempo de entrenamiento, por lo que se opto por cambiar el modelo base.\n",
        "Arquitectura Base:\n",
        "La primer red usaba VGG16, la cambio por EfficientNetB3. Aprovechamos la transferencia de aprendizaje al utilizar pesos pre-entrenados de EfficientNetB3. Esto significa que los pesos de la arquitectura base (EfficientNetB3) se han entrenado en una gran cantidad de datos de imágenes (Imagenet).\n",
        "\n",
        "EfficientNet es eficiente apesar de los recursos limitados, tambien al ser entrenada con una gran cantidad de imagenes se vuelve excelente para problemas de clasificación\n",
        "\n",
        "###Optimizadores\n",
        "Pasamos de usar adam a adamax\n",
        "\n",
        "###Regularizadores\n",
        "En la primer red solo apago un porcentaje de la red con Dropout, en el segundo modelo se usa L1 Y L2, los cuales ayudan a prevenir el sobreajuste."
      ],
      "metadata": {
        "id": "FYlgRClBWKnQ"
      }
    },
    {
      "cell_type": "code",
      "source": [
        "\n",
        "\n",
        "# create pre-trained model\n",
        "base_model = tf.keras.applications.efficientnet.EfficientNetB3(include_top= False, weights= \"imagenet\", input_shape= input_shape, pooling= 'max')\n",
        "\n",
        "model = tf.keras.Sequential([\n",
        "      # Asegúrate de usar 'padding' si es necesario\n",
        "    base_model,\n",
        "    tf.keras.layers.Reshape((1, 1, 1536)),  # Redefine las dimensiones\n",
        "    tf.keras.layers.Dropout(rate=0.30, seed=42),\n",
        "    Conv2D(128, (3, 3), activation='relu', padding='same'),\n",
        "    tf.keras.layers.BatchNormalization(axis=-1, momentum=0.99, epsilon=0.001),\n",
        "    tf.keras.layers.Flatten(),\n",
        "    tf.keras.layers.Dense(256, kernel_regularizer=tf.keras.regularizers.l2(l=0.016), activity_regularizer=tf.keras.regularizers.l1(0.006),\n",
        "                       bias_regularizer=tf.keras.regularizers.l1(0.006), activation='relu'),\n",
        "\n",
        "    tf.keras.layers.Dense(53, activation='softmax')\n",
        "])\n",
        "model.compile(Adamax(learning_rate= 0.001), loss= 'categorical_crossentropy', metrics= ['accuracy'])\n",
        "\n",
        "model.summary()\n",
        "if os.path.exists(checkpoint_path + '.index'):\n",
        "  model.load_weights(checkpoint_path)\n",
        "else:\n",
        "  print(f\"No se encontró un archivo de punto de control en {checkpoint_path}. Iniciando entrenamiento desde cero.\")\n",
        "\n",
        "\n",
        "\n"
      ],
      "metadata": {
        "colab": {
          "base_uri": "https://localhost:8080/"
        },
        "id": "S4pnqmZ_extm",
        "outputId": "57309c33-4f10-40cb-dc64-28568e036a12"
      },
      "execution_count": 99,
      "outputs": [
        {
          "output_type": "stream",
          "name": "stdout",
          "text": [
            "Model: \"sequential_6\"\n",
            "_________________________________________________________________\n",
            " Layer (type)                Output Shape              Param #   \n",
            "=================================================================\n",
            " efficientnetb3 (Functional  (None, 1536)              10783535  \n",
            " )                                                               \n",
            "                                                                 \n",
            " reshape_2 (Reshape)         (None, 1, 1, 1536)        0         \n",
            "                                                                 \n",
            " dropout_5 (Dropout)         (None, 1, 1, 1536)        0         \n",
            "                                                                 \n",
            " conv2d_9 (Conv2D)           (None, 1, 1, 128)         1769600   \n",
            "                                                                 \n",
            " batch_normalization_2 (Bat  (None, 1, 1, 128)         512       \n",
            " chNormalization)                                                \n",
            "                                                                 \n",
            " flatten_5 (Flatten)         (None, 128)               0         \n",
            "                                                                 \n",
            " dense_10 (Dense)            (None, 256)               33024     \n",
            "                                                                 \n",
            " dense_11 (Dense)            (None, 53)                13621     \n",
            "                                                                 \n",
            "=================================================================\n",
            "Total params: 12600292 (48.07 MB)\n",
            "Trainable params: 12512733 (47.73 MB)\n",
            "Non-trainable params: 87559 (342.03 KB)\n",
            "_________________________________________________________________\n"
          ]
        }
      ]
    },
    {
      "cell_type": "code",
      "source": [
        "\n",
        "history=model.fit(train_generator, epochs=1, validation_data=valid_generator, callbacks=[checkpoint_64])\n",
        "\n",
        "\n"
      ],
      "metadata": {
        "colab": {
          "base_uri": "https://localhost:8080/"
        },
        "id": "m8kRNhJxezTu",
        "outputId": "62bfd09a-cd77-48ea-c075-d2e08845faf7"
      },
      "execution_count": 100,
      "outputs": [
        {
          "output_type": "stream",
          "name": "stdout",
          "text": [
            " 63/481 [==>...........................] - ETA: 51:06 - loss: 0.6157 - accuracy: 0.9623\n",
            "Epoch 1: saving model to /content/gdrive/MyDrive/IAcone/Bloque2/Modulo2/entegaFrame2/checkPoint21/checkPoint64\n",
            "127/481 [======>.......................] - ETA: 43:23 - loss: 0.6096 - accuracy: 0.9582\n",
            "Epoch 1: saving model to /content/gdrive/MyDrive/IAcone/Bloque2/Modulo2/entegaFrame2/checkPoint21/checkPoint64\n",
            "191/481 [==========>...................] - ETA: 35:23 - loss: 0.6073 - accuracy: 0.9568\n",
            "Epoch 1: saving model to /content/gdrive/MyDrive/IAcone/Bloque2/Modulo2/entegaFrame2/checkPoint21/checkPoint64\n",
            "255/481 [==============>...............] - ETA: 27:44 - loss: 0.6160 - accuracy: 0.9534\n",
            "Epoch 1: saving model to /content/gdrive/MyDrive/IAcone/Bloque2/Modulo2/entegaFrame2/checkPoint21/checkPoint64\n",
            "319/481 [==================>...........] - ETA: 19:53 - loss: 0.6144 - accuracy: 0.9538\n",
            "Epoch 1: saving model to /content/gdrive/MyDrive/IAcone/Bloque2/Modulo2/entegaFrame2/checkPoint21/checkPoint64\n",
            "383/481 [======================>.......] - ETA: 12:07 - loss: 0.6156 - accuracy: 0.9524\n",
            "Epoch 1: saving model to /content/gdrive/MyDrive/IAcone/Bloque2/Modulo2/entegaFrame2/checkPoint21/checkPoint64\n",
            "447/481 [==========================>...] - ETA: 4:12 - loss: 0.6173 - accuracy: 0.9508\n",
            "Epoch 1: saving model to /content/gdrive/MyDrive/IAcone/Bloque2/Modulo2/entegaFrame2/checkPoint21/checkPoint64\n",
            "481/481 [==============================] - 3668s 8s/step - loss: 0.6124 - accuracy: 0.9518 - val_loss: 1.2082 - val_accuracy: 0.7849\n"
          ]
        }
      ]
    },
    {
      "cell_type": "markdown",
      "source": [
        "#Evaluamos el modelo\n",
        "Tambien evaluamos con el set de datos test_generator"
      ],
      "metadata": {
        "id": "2ZHkRlytgT2j"
      }
    },
    {
      "cell_type": "code",
      "source": [
        "test_loss, test_accuracy = model.evaluate(test_generator)\n",
        "print(\"Test Accuracy:\", test_accuracy)"
      ],
      "metadata": {
        "colab": {
          "base_uri": "https://localhost:8080/"
        },
        "id": "Z9BzELhVe0vb",
        "outputId": "1a05b908-d73b-4eff-ae54-b5190ddf4639"
      },
      "execution_count": 101,
      "outputs": [
        {
          "output_type": "stream",
          "name": "stdout",
          "text": [
            "17/17 [==============================] - 32s 2s/step - loss: 1.3980 - accuracy: 0.7321\n",
            "Test Accuracy: 0.7320754528045654\n"
          ]
        }
      ]
    },
    {
      "cell_type": "markdown",
      "source": [
        "Obtenemos un accracy de 95% tambien reducimos la perdida.\n"
      ],
      "metadata": {
        "id": "sVy0xzvQhX_B"
      }
    },
    {
      "cell_type": "code",
      "source": [
        "model.save(\"cartasBetter.h5\")\n",
        "files.download(\"cartasBetter.h5\")\n",
        "loaded_model = load_model(\"/content/cartasBetter.h5\")\n",
        "test_loss, test_accuracy = loaded_model.evaluate(test_generator)\n",
        "print(\"Test Accuracy:\", test_accuracy)"
      ],
      "metadata": {
        "colab": {
          "base_uri": "https://localhost:8080/",
          "height": 126
        },
        "id": "UzlPmWWCe5Bt",
        "outputId": "91d8073d-11d2-4c0a-90e4-5e277fd84fee"
      },
      "execution_count": 102,
      "outputs": [
        {
          "output_type": "stream",
          "name": "stderr",
          "text": [
            "/usr/local/lib/python3.10/dist-packages/keras/src/engine/training.py:3079: UserWarning: You are saving your model as an HDF5 file via `model.save()`. This file format is considered legacy. We recommend using instead the native Keras format, e.g. `model.save('my_model.keras')`.\n",
            "  saving_api.save_model(\n"
          ]
        },
        {
          "output_type": "display_data",
          "data": {
            "text/plain": [
              "<IPython.core.display.Javascript object>"
            ],
            "application/javascript": [
              "\n",
              "    async function download(id, filename, size) {\n",
              "      if (!google.colab.kernel.accessAllowed) {\n",
              "        return;\n",
              "      }\n",
              "      const div = document.createElement('div');\n",
              "      const label = document.createElement('label');\n",
              "      label.textContent = `Downloading \"${filename}\": `;\n",
              "      div.appendChild(label);\n",
              "      const progress = document.createElement('progress');\n",
              "      progress.max = size;\n",
              "      div.appendChild(progress);\n",
              "      document.body.appendChild(div);\n",
              "\n",
              "      const buffers = [];\n",
              "      let downloaded = 0;\n",
              "\n",
              "      const channel = await google.colab.kernel.comms.open(id);\n",
              "      // Send a message to notify the kernel that we're ready.\n",
              "      channel.send({})\n",
              "\n",
              "      for await (const message of channel.messages) {\n",
              "        // Send a message to notify the kernel that we're ready.\n",
              "        channel.send({})\n",
              "        if (message.buffers) {\n",
              "          for (const buffer of message.buffers) {\n",
              "            buffers.push(buffer);\n",
              "            downloaded += buffer.byteLength;\n",
              "            progress.value = downloaded;\n",
              "          }\n",
              "        }\n",
              "      }\n",
              "      const blob = new Blob(buffers, {type: 'application/binary'});\n",
              "      const a = document.createElement('a');\n",
              "      a.href = window.URL.createObjectURL(blob);\n",
              "      a.download = filename;\n",
              "      div.appendChild(a);\n",
              "      a.click();\n",
              "      div.remove();\n",
              "    }\n",
              "  "
            ]
          },
          "metadata": {}
        },
        {
          "output_type": "display_data",
          "data": {
            "text/plain": [
              "<IPython.core.display.Javascript object>"
            ],
            "application/javascript": [
              "download(\"download_57b52831-a7ed-444c-aec3-f15f8e999830\", \"cartasBetter.h5\", 151936928)"
            ]
          },
          "metadata": {}
        },
        {
          "output_type": "stream",
          "name": "stdout",
          "text": [
            "17/17 [==============================] - 33s 2s/step - loss: 1.3820 - accuracy: 0.7547\n",
            "Test Accuracy: 0.7547169923782349\n"
          ]
        }
      ]
    },
    {
      "cell_type": "code",
      "source": [
        "img_path = '/content/156.jpg'\n",
        "img = image.load_img(img_path, target_size=(200, 200))\n",
        "img_array = image.img_to_array(img)\n",
        "img_array = img_array / 255.0\n",
        "img_array = np.expand_dims(img_array, axis=0)\n"
      ],
      "metadata": {
        "id": "TlTi8IV-e_bA"
      },
      "execution_count": 103,
      "outputs": []
    },
    {
      "cell_type": "code",
      "source": [
        "\n",
        "prediction = loaded_model.predict(img_array)\n",
        "\n",
        "predicted_class = np.argmax(prediction)\n",
        "predicted_class\n",
        "class_labels = train_generator.class_indices\n",
        "llave_correspondiente = [llave for llave, valor in class_labels.items() if valor == predicted_class]\n",
        "\n",
        "\n",
        "print(llave_correspondiente[0])\n"
      ],
      "metadata": {
        "colab": {
          "base_uri": "https://localhost:8080/"
        },
        "id": "WaQ1xlWCfGPj",
        "outputId": "93a5b7e2-94b8-4950-a5d9-66392e4435c2"
      },
      "execution_count": 104,
      "outputs": [
        {
          "output_type": "stream",
          "name": "stdout",
          "text": [
            "1/1 [==============================] - 4s 4s/step\n",
            "four of clubs\n"
          ]
        }
      ]
    },
    {
      "cell_type": "code",
      "source": [
        "\n"
      ],
      "metadata": {
        "id": "HMzd1eV7fIfO"
      },
      "execution_count": 107,
      "outputs": []
    },
    {
      "cell_type": "code",
      "source": [],
      "metadata": {
        "id": "8PmbljM25dVH"
      },
      "execution_count": null,
      "outputs": []
    }
  ],
  "metadata": {
    "colab": {
      "provenance": []
    },
    "kernelspec": {
      "display_name": "Python 3",
      "name": "python3"
    },
    "language_info": {
      "name": "python"
    }
  },
  "nbformat": 4,
  "nbformat_minor": 0
}